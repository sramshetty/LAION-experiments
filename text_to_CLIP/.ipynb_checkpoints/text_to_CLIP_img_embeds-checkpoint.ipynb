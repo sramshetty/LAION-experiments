{
 "cells": [
  {
   "cell_type": "code",
   "execution_count": 7,
   "id": "b928968f",
   "metadata": {},
   "outputs": [],
   "source": [
    "from embedding_reader import EmbeddingReader\n",
    "import numpy as np\n",
    "import pandas as pd\n",
    "import torch\n",
    "import torch.nn as nn\n",
    "import torch.nn.functional as F\n",
    "from tqdm import tqdm\n",
    "import os\n",
    "import math"
   ]
  },
  {
   "cell_type": "markdown",
   "id": "82a66d6d",
   "metadata": {},
   "source": [
    "# Load LAION CLIP Data"
   ]
  },
  {
   "cell_type": "markdown",
   "id": "41dc1743",
   "metadata": {},
   "source": [
    "### Fetch if not already stored"
   ]
  },
  {
   "cell_type": "code",
   "execution_count": 2,
   "id": "3aeb4ea5",
   "metadata": {},
   "outputs": [
    {
     "name": "stderr",
     "output_type": "stream",
     "text": [
      "100%|██████████████████████████████████████████████████████████████| 4611/4611 [03:19<00:00, 23.07it/s]"
     ]
    },
    {
     "name": "stdout",
     "output_type": "stream",
     "text": [
      "embedding count 116341562\n",
      "dimension 768\n",
      "total size 178700639232\n",
      "byte per item 1536\n"
     ]
    },
    {
     "name": "stderr",
     "output_type": "stream",
     "text": [
      "\n"
     ]
    }
   ],
   "source": [
    "# emebeddings are .npy\n",
    "# metadata is .paraquet\n",
    "embedding_reader = EmbeddingReader(\n",
    "    embeddings_folder=\"https://mystic.the-eye.eu/public/AI/cah/laion5b/embeddings/laion2B-en/\",\n",
    "    metadata_folder=\"https://mystic.the-eye.eu/public/AI/cah/laion5b/metadata/laion2B-en/\",\n",
    "    meta_columns=['SAMPLE_ID', 'TEXT'],\n",
    "    file_format=\"parquet_npy\"\n",
    ")\n",
    "print(\"embedding count\", embedding_reader.count)\n",
    "print(\"dimension\", embedding_reader.dimension)\n",
    "print(\"total size\", embedding_reader.total_size)\n",
    "print(\"byte per item\", embedding_reader.byte_per_item)"
   ]
  },
  {
   "cell_type": "code",
   "execution_count": 3,
   "id": "34f1b4fc",
   "metadata": {},
   "outputs": [
    {
     "name": "stderr",
     "output_type": "stream",
     "text": [
      "100%|███████████████████████████████████████████████████████████████████| 1/1 [02:06<00:00, 126.01s/it]"
     ]
    },
    {
     "name": "stdout",
     "output_type": "stream",
     "text": [
      "(10000, 768)\n",
      "30000\n"
     ]
    },
    {
     "name": "stderr",
     "output_type": "stream",
     "text": [
      "\n"
     ]
    }
   ],
   "source": [
    "for emb, meta in embedding_reader(batch_size=10 ** 4, start=0, end=10 ** 4, show_progress=True):\n",
    "    print(emb.shape)\n",
    "    print(meta.size)"
   ]
  },
  {
   "cell_type": "code",
   "execution_count": 6,
   "id": "549b5567",
   "metadata": {},
   "outputs": [],
   "source": [
    "meta['emb'] = emb.tolist()"
   ]
  },
  {
   "cell_type": "code",
   "execution_count": 15,
   "id": "87162005",
   "metadata": {},
   "outputs": [],
   "source": [
    "meta.to_parquet('data/laion2B-10000.parquet.gzip', compression='gzip')"
   ]
  },
  {
   "cell_type": "markdown",
   "id": "b6a787ab",
   "metadata": {},
   "source": [
    "### Create Dataset and Splits"
   ]
  },
  {
   "cell_type": "code",
   "execution_count": 8,
   "id": "bfd39617",
   "metadata": {},
   "outputs": [
    {
     "data": {
      "text/plain": [
       "device(type='cuda')"
      ]
     },
     "execution_count": 8,
     "metadata": {},
     "output_type": "execute_result"
    }
   ],
   "source": [
    "device = torch.device(\"cuda\") if torch.cuda.is_available() else torch.device(\"cpu\")\n",
    "device"
   ]
  },
  {
   "cell_type": "code",
   "execution_count": 9,
   "id": "f216efbb",
   "metadata": {},
   "outputs": [],
   "source": [
    "torch.cuda.set_device(1)"
   ]
  },
  {
   "cell_type": "code",
   "execution_count": 10,
   "id": "b428ed7e",
   "metadata": {},
   "outputs": [],
   "source": [
    "meta = pd.read_parquet('data/laion2B-10000.parquet.gzip')"
   ]
  },
  {
   "cell_type": "code",
   "execution_count": 11,
   "id": "1c6e6cdd",
   "metadata": {},
   "outputs": [
    {
     "name": "stderr",
     "output_type": "stream",
     "text": [
      "/tmp/ipykernel_78304/3476993897.py:1: UserWarning: Creating a tensor from a list of numpy.ndarrays is extremely slow. Please consider converting the list to a single numpy.ndarray with numpy.array() before converting to a tensor. (Triggered internally at  ../torch/csrc/utils/tensor_new.cpp:210.)\n",
      "  emb = torch.Tensor(meta['emb'])\n"
     ]
    }
   ],
   "source": [
    "emb = torch.Tensor(meta['emb'])"
   ]
  },
  {
   "cell_type": "code",
   "execution_count": 12,
   "id": "51d58253",
   "metadata": {},
   "outputs": [],
   "source": [
    "train_idx = int(len(meta) * 0.8)\n",
    "x_train, y_train = meta['TEXT'][:train_idx], emb[:train_idx]\n",
    "x_test, y_test = meta['TEXT'][train_idx:], emb[train_idx:]"
   ]
  },
  {
   "cell_type": "code",
   "execution_count": 13,
   "id": "e0064e41",
   "metadata": {},
   "outputs": [
    {
     "data": {
      "text/plain": [
       "((8000,), torch.Size([8000, 768]), (2000,), torch.Size([2000, 768]))"
      ]
     },
     "execution_count": 13,
     "metadata": {},
     "output_type": "execute_result"
    }
   ],
   "source": [
    "x_train.shape, y_train.size(), x_test.shape, y_test.size()"
   ]
  },
  {
   "cell_type": "markdown",
   "id": "c51cb2a6",
   "metadata": {},
   "source": [
    "# Fine-tune LM -> Predict CLIP image embeddings"
   ]
  },
  {
   "cell_type": "code",
   "execution_count": 14,
   "id": "e16fef2d",
   "metadata": {},
   "outputs": [],
   "source": [
    "from transformers import AutoModel, AutoTokenizer"
   ]
  },
  {
   "cell_type": "code",
   "execution_count": 174,
   "id": "45493114",
   "metadata": {},
   "outputs": [],
   "source": [
    "epochs = 4\n",
    "batch_size = 16\n",
    "train_batches = math.ceil(x_train.shape[0]/batch_size)\n",
    "test_batches = math.ceil(x_test.shape[0]/batch_size)"
   ]
  },
  {
   "cell_type": "markdown",
   "id": "ea21dcf0",
   "metadata": {},
   "source": [
    "## BERT"
   ]
  },
  {
   "cell_type": "code",
   "execution_count": 176,
   "id": "f824ff98",
   "metadata": {},
   "outputs": [],
   "source": [
    "class CLIPEmbBERT(nn.Module):\n",
    "    def __init__(self):\n",
    "        super(CLIPEmbBERT, self).__init__()\n",
    "        self.model = AutoModel.from_pretrained(\"bert-base-uncased\")\n",
    "        for param in self.model.parameters():\n",
    "            param.requires_grad = False\n",
    "        ### New layers:\n",
    "        self.linear1 = nn.Linear(768, 1024)\n",
    "        self.linear2 = nn.Linear(1024, 768)\n",
    "\n",
    "    def forward(self, tokens, mask):\n",
    "        cls_embedding = self.model(tokens, attention_mask=mask).pooler_output\n",
    "        out = self.linear1(cls_embedding)\n",
    "        out = self.linear2(out)\n",
    "\n",
    "        return out "
   ]
  },
  {
   "cell_type": "code",
   "execution_count": 177,
   "id": "5238a6eb",
   "metadata": {
    "scrolled": true
   },
   "outputs": [
    {
     "data": {
      "application/vnd.jupyter.widget-view+json": {
       "model_id": "3c2944b3c80747d4a48248a08c95f746",
       "version_major": 2,
       "version_minor": 0
      },
      "text/plain": [
       "Downloading:   0%|          | 0.00/420M [00:00<?, ?B/s]"
      ]
     },
     "metadata": {},
     "output_type": "display_data"
    },
    {
     "name": "stderr",
     "output_type": "stream",
     "text": [
      "Some weights of the model checkpoint at bert-base-uncased were not used when initializing BertModel: ['cls.predictions.transform.dense.weight', 'cls.predictions.transform.LayerNorm.weight', 'cls.seq_relationship.bias', 'cls.predictions.transform.dense.bias', 'cls.predictions.transform.LayerNorm.bias', 'cls.predictions.decoder.weight', 'cls.seq_relationship.weight', 'cls.predictions.bias']\n",
      "- This IS expected if you are initializing BertModel from the checkpoint of a model trained on another task or with another architecture (e.g. initializing a BertForSequenceClassification model from a BertForPreTraining model).\n",
      "- This IS NOT expected if you are initializing BertModel from the checkpoint of a model that you expect to be exactly identical (initializing a BertForSequenceClassification model from a BertForSequenceClassification model).\n"
     ]
    }
   ],
   "source": [
    "bert_model = CLIPEmbBERT()\n",
    "bert_model.to(device)\n",
    "\n",
    "bert_tokenizer = AutoTokenizer.from_pretrained(\"bert-base-uncased\")\n",
    "\n",
    "criterion = nn.MSELoss()\n",
    "optimizer = torch.optim.Adam(bert_model.parameters(), lr=5e-5, weight_decay=3e-6)"
   ]
  },
  {
   "cell_type": "code",
   "execution_count": 178,
   "id": "f1306712",
   "metadata": {},
   "outputs": [],
   "source": [
    "x_train_bert = bert_tokenizer.batch_encode_plus(list(x_train), return_tensors='pt', padding=True, add_special_tokens=True).to(device)\n",
    "y_train = y_train.to(device)"
   ]
  },
  {
   "cell_type": "code",
   "execution_count": 179,
   "id": "a3749f9a",
   "metadata": {
    "scrolled": true
   },
   "outputs": [
    {
     "name": "stderr",
     "output_type": "stream",
     "text": [
      "100%|██████████████████████████████████████████████████████████████████| 500/500 [00:37<00:00, 13.35it/s]\n"
     ]
    },
    {
     "name": "stdout",
     "output_type": "stream",
     "text": [
      "Loss Epoch 1 / 4: 0.040074531018733976\n"
     ]
    },
    {
     "name": "stderr",
     "output_type": "stream",
     "text": [
      "100%|██████████████████████████████████████████████████████████████████| 500/500 [00:37<00:00, 13.27it/s]\n"
     ]
    },
    {
     "name": "stdout",
     "output_type": "stream",
     "text": [
      "Loss Epoch 2 / 4: 0.03325400817021727\n"
     ]
    },
    {
     "name": "stderr",
     "output_type": "stream",
     "text": [
      "100%|██████████████████████████████████████████████████████████████████| 500/500 [00:38<00:00, 13.15it/s]\n"
     ]
    },
    {
     "name": "stdout",
     "output_type": "stream",
     "text": [
      "Loss Epoch 3 / 4: 0.032004800744354724\n"
     ]
    },
    {
     "name": "stderr",
     "output_type": "stream",
     "text": [
      "100%|██████████████████████████████████████████████████████████████████| 500/500 [00:37<00:00, 13.25it/s]"
     ]
    },
    {
     "name": "stdout",
     "output_type": "stream",
     "text": [
      "Loss Epoch 4 / 4: 0.0312991358526051\n",
      "CPU times: user 2min 29s, sys: 1.51 s, total: 2min 31s\n",
      "Wall time: 2min 30s\n"
     ]
    },
    {
     "name": "stderr",
     "output_type": "stream",
     "text": [
      "\n"
     ]
    }
   ],
   "source": [
    "%%time\n",
    "bert_model.train()\n",
    "for epoch in range(epochs):\n",
    "    \n",
    "    rand_ids = torch.randperm(x_train_bert['input_ids'].size()[0])\n",
    "    X = x_train_bert['input_ids'][rand_ids]\n",
    "    masks = x_train_bert['attention_mask'][rand_ids]\n",
    "    \n",
    "    total_loss = 0.0\n",
    "    \n",
    "    for i in tqdm(range(0, X.size()[0], batch_size)):\n",
    "        optimizer.zero_grad()\n",
    "        \n",
    "        outputs = bert_model(X[i:i+batch_size], mask=masks[i:i+batch_size])\n",
    "        \n",
    "        loss = torch.sqrt(criterion(torch.log(outputs + 1), torch.log(y_train[i:i+batch_size] + 1)))\n",
    "        total_loss += loss.item()\n",
    "\n",
    "        loss.backward()\n",
    "        optimizer.step()\n",
    "    \n",
    "    print(f\"Loss Epoch {epoch+1} / {epochs}: {total_loss/train_batches}\")"
   ]
  },
  {
   "cell_type": "code",
   "execution_count": 180,
   "id": "530faaf9",
   "metadata": {},
   "outputs": [],
   "source": [
    "x_test_bert = bert_tokenizer.batch_encode_plus(list(x_test), return_tensors='pt', padding=True, add_special_tokens=True).to(device)\n",
    "y_test = y_test.to(device)"
   ]
  },
  {
   "cell_type": "code",
   "execution_count": 181,
   "id": "8a78670c",
   "metadata": {},
   "outputs": [
    {
     "name": "stderr",
     "output_type": "stream",
     "text": [
      "100%|██████████████████████████████████████████████████████████████████| 125/125 [00:08<00:00, 14.65it/s]\n"
     ]
    },
    {
     "data": {
      "text/plain": [
       "0.030576227888464928"
      ]
     },
     "execution_count": 181,
     "metadata": {},
     "output_type": "execute_result"
    }
   ],
   "source": [
    "predicted_embs = np.array([[0]*768])\n",
    "bert_model.eval()\n",
    "with torch.no_grad():\n",
    "    X = x_test_bert['input_ids']\n",
    "    masks = x_test_bert['attention_mask']\n",
    "    total_loss = 0.0\n",
    "    for i in tqdm(range(0, X.size()[0], batch_size)):\n",
    "        outputs = bert_model(X[i:i+batch_size], mask=masks[i:i+batch_size])\n",
    "        predicted_embs = np.concatenate([predicted_embs, outputs.cpu()])\n",
    "\n",
    "        loss = torch.sqrt(criterion(torch.log(outputs + 1), torch.log(y_test[i:i+batch_size] + 1)))\n",
    "        total_loss += loss.item()\n",
    "\n",
    "total_loss/test_batches"
   ]
  },
  {
   "cell_type": "code",
   "execution_count": 182,
   "id": "c974d939",
   "metadata": {},
   "outputs": [
    {
     "data": {
      "text/plain": [
       "array([[ 0.021662  ,  0.04147527,  0.01045391, ...,  0.00151252,\n",
       "        -0.01788167,  0.0114178 ],\n",
       "       [ 0.03370392,  0.04907173, -0.00467334, ...,  0.02452838,\n",
       "        -0.01084931, -0.0040316 ],\n",
       "       [ 0.02601591,  0.02909793,  0.00328831, ...,  0.00946003,\n",
       "        -0.00404191, -0.00129716],\n",
       "       ...,\n",
       "       [ 0.0244996 ,  0.02940119,  0.00433417, ...,  0.01099559,\n",
       "         0.00248771,  0.01305326],\n",
       "       [ 0.04512278,  0.03372372,  0.01290418, ..., -0.0030854 ,\n",
       "        -0.00783951, -0.00473635],\n",
       "       [ 0.03254802,  0.04593226,  0.01455975, ..., -0.00737137,\n",
       "        -0.01401397, -0.00299664]])"
      ]
     },
     "execution_count": 182,
     "metadata": {},
     "output_type": "execute_result"
    }
   ],
   "source": [
    "predicted_embs[1:]"
   ]
  },
  {
   "cell_type": "markdown",
   "id": "67209c37",
   "metadata": {},
   "source": [
    "### Save LAION-2B embeddings"
   ]
  },
  {
   "cell_type": "code",
   "execution_count": 111,
   "id": "f5bbf7c9",
   "metadata": {},
   "outputs": [],
   "source": [
    "np.save(\"embeds/BERT_test_preds.npy\", predicted_embs[1:])\n",
    "np.save(\"embeds/LAION_test_gt.npy\", np.array(y_test.cpu()))"
   ]
  },
  {
   "cell_type": "markdown",
   "id": "0517205b",
   "metadata": {},
   "source": [
    "### Winoground embeddings"
   ]
  },
  {
   "cell_type": "code",
   "execution_count": 112,
   "id": "a501ef5b",
   "metadata": {},
   "outputs": [
    {
     "data": {
      "text/plain": [
       "torch.Size([800, 32])"
      ]
     },
     "execution_count": 112,
     "metadata": {},
     "output_type": "execute_result"
    }
   ],
   "source": [
    "win_df = pd.read_json(\"data/examples.jsonl\", lines=True)\n",
    "win_bert = bert_tokenizer.batch_encode_plus(win_df['caption_0'].tolist() + win_df['caption_1'].tolist(), return_tensors='pt', padding=True, add_special_tokens=True).to(device)\n",
    "win_bert['input_ids'].shape"
   ]
  },
  {
   "cell_type": "code",
   "execution_count": 24,
   "id": "a85b3f74",
   "metadata": {},
   "outputs": [
    {
     "name": "stderr",
     "output_type": "stream",
     "text": [
      "100%|███████████████████████████████████████████████| 50/50 [00:00<00:00, 79.26it/s]\n"
     ]
    }
   ],
   "source": [
    "win_embs = np.array([[0]*768])\n",
    "with torch.no_grad():\n",
    "    X = win_bert['input_ids']\n",
    "    masks = win_bert['attention_mask']\n",
    "    for i in tqdm(range(0, X.size()[0], batch_size)):\n",
    "        outputs = bert_model(X[i:i+batch_size], mask=masks[i:i+batch_size])\n",
    "        win_embs = np.concatenate([win_embs, outputs.cpu()])"
   ]
  },
  {
   "cell_type": "code",
   "execution_count": 26,
   "id": "f239f388",
   "metadata": {},
   "outputs": [],
   "source": [
    "np.save(\"embeds/BERT_win_preds.npy\", win_embs[1:])"
   ]
  },
  {
   "cell_type": "markdown",
   "id": "23fd3550",
   "metadata": {},
   "source": [
    "## DistilBERT"
   ]
  },
  {
   "cell_type": "code",
   "execution_count": 10,
   "id": "43900e08",
   "metadata": {},
   "outputs": [],
   "source": [
    "from transformers import DistilBertForSequenceClassification\n",
    "class CLIPEmbDistilBERT(nn.Module):\n",
    "    def __init__(self):\n",
    "        super(CLIPEmbDistilBERT, self).__init__()\n",
    "        self.model = DistilBertForSequenceClassification.from_pretrained(\"distilbert-base-uncased\", num_labels=768)\n",
    "          ### New layers: None\n",
    "\n",
    "    def forward(self, tokens, mask):\n",
    "        cls_emebdding = self.model(tokens, attention_mask=mask).logits\n",
    "\n",
    "        return cls_emebdding"
   ]
  },
  {
   "cell_type": "code",
   "execution_count": 11,
   "id": "ccb5f9b3",
   "metadata": {},
   "outputs": [
    {
     "name": "stderr",
     "output_type": "stream",
     "text": [
      "Some weights of the model checkpoint at distilbert-base-uncased were not used when initializing DistilBertForSequenceClassification: ['vocab_layer_norm.bias', 'vocab_projector.bias', 'vocab_layer_norm.weight', 'vocab_transform.weight', 'vocab_transform.bias', 'vocab_projector.weight']\n",
      "- This IS expected if you are initializing DistilBertForSequenceClassification from the checkpoint of a model trained on another task or with another architecture (e.g. initializing a BertForSequenceClassification model from a BertForPreTraining model).\n",
      "- This IS NOT expected if you are initializing DistilBertForSequenceClassification from the checkpoint of a model that you expect to be exactly identical (initializing a BertForSequenceClassification model from a BertForSequenceClassification model).\n",
      "Some weights of DistilBertForSequenceClassification were not initialized from the model checkpoint at distilbert-base-uncased and are newly initialized: ['pre_classifier.bias', 'classifier.bias', 'classifier.weight', 'pre_classifier.weight']\n",
      "You should probably TRAIN this model on a down-stream task to be able to use it for predictions and inference.\n"
     ]
    }
   ],
   "source": [
    "distilbert_model = CLIPEmbDistilBERT()\n",
    "distilbert_model.to(device)\n",
    "\n",
    "distilbert_tokenizer = AutoTokenizer.from_pretrained(\"distilbert-base-cased\")\n",
    "\n",
    "criterion = nn.MSELoss()\n",
    "optimizer = torch.optim.Adam(distilbert_model.parameters(), lr=3e-3, weight_decay=1e-5)"
   ]
  },
  {
   "cell_type": "code",
   "execution_count": 12,
   "id": "767d05a6",
   "metadata": {},
   "outputs": [],
   "source": [
    "x_train_distilbert = distilbert_tokenizer.batch_encode_plus(list(x_train), return_tensors='pt', padding=True, add_special_tokens=True).to(device)\n",
    "y_train = y_train.to(device)"
   ]
  },
  {
   "cell_type": "code",
   "execution_count": 13,
   "id": "ec4a5ed7",
   "metadata": {},
   "outputs": [
    {
     "name": "stderr",
     "output_type": "stream",
     "text": [
      "100%|█████████████████████████████████████████████| 500/500 [00:59<00:00,  8.46it/s]\n"
     ]
    },
    {
     "name": "stdout",
     "output_type": "stream",
     "text": [
      "Loss Epoch 1 / 4: 0.03901317881047726\n"
     ]
    },
    {
     "name": "stderr",
     "output_type": "stream",
     "text": [
      "100%|█████████████████████████████████████████████| 500/500 [00:59<00:00,  8.40it/s]\n"
     ]
    },
    {
     "name": "stdout",
     "output_type": "stream",
     "text": [
      "Loss Epoch 2 / 4: 0.028321496821939945\n"
     ]
    },
    {
     "name": "stderr",
     "output_type": "stream",
     "text": [
      "100%|█████████████████████████████████████████████| 500/500 [00:59<00:00,  8.39it/s]\n"
     ]
    },
    {
     "name": "stdout",
     "output_type": "stream",
     "text": [
      "Loss Epoch 3 / 4: 0.028325878888368607\n"
     ]
    },
    {
     "name": "stderr",
     "output_type": "stream",
     "text": [
      "100%|█████████████████████████████████████████████| 500/500 [00:59<00:00,  8.42it/s]"
     ]
    },
    {
     "name": "stdout",
     "output_type": "stream",
     "text": [
      "Loss Epoch 4 / 4: 0.028327112585306166\n"
     ]
    },
    {
     "name": "stderr",
     "output_type": "stream",
     "text": [
      "\n"
     ]
    }
   ],
   "source": [
    "distilbert_model.train()\n",
    "for epoch in range(epochs):\n",
    "    \n",
    "    rand_ids = torch.randperm(x_train_distilbert['input_ids'].size()[0])\n",
    "    X = x_train_distilbert['input_ids'][rand_ids]\n",
    "    masks = x_train_distilbert['attention_mask'][rand_ids]\n",
    "    \n",
    "    total_loss = 0.0\n",
    "    \n",
    "    for i in tqdm(range(0, X.size()[0], batch_size)):\n",
    "        optimizer.zero_grad()\n",
    "        \n",
    "        outputs = distilbert_model(X[i:i+batch_size], mask=masks[i:i+batch_size])\n",
    "        \n",
    "        loss = torch.sqrt(criterion(outputs, y_train[i:i+batch_size]))\n",
    "        total_loss += loss.item()\n",
    "\n",
    "        loss.backward()\n",
    "        optimizer.step()\n",
    "    \n",
    "    print(f\"Loss Epoch {epoch+1} / {epochs}: {total_loss/train_batches}\")"
   ]
  },
  {
   "cell_type": "code",
   "execution_count": 14,
   "id": "f258a528",
   "metadata": {},
   "outputs": [],
   "source": [
    "x_test_distilbert = distilbert_tokenizer.batch_encode_plus(list(x_test), return_tensors='pt', padding=True, add_special_tokens=True).to(device)\n",
    "y_test = y_test.to(device)"
   ]
  },
  {
   "cell_type": "code",
   "execution_count": 15,
   "id": "f90afad9",
   "metadata": {},
   "outputs": [
    {
     "name": "stderr",
     "output_type": "stream",
     "text": [
      "100%|█████████████████████████████████████████████| 125/125 [00:05<00:00, 24.08it/s]\n"
     ]
    },
    {
     "data": {
      "text/plain": [
       "0.028233408972620964"
      ]
     },
     "execution_count": 15,
     "metadata": {},
     "output_type": "execute_result"
    }
   ],
   "source": [
    "predicted_embs = np.array([[0]*768])\n",
    "distilbert_model.eval()\n",
    "with torch.no_grad():\n",
    "    X = x_test_distilbert['input_ids']\n",
    "    masks = x_test_distilbert['attention_mask']\n",
    "    total_loss = 0.0\n",
    "    for i in tqdm(range(0, X.size()[0], batch_size)):\n",
    "        outputs = distilbert_model(X[i:i+batch_size], mask=masks[i:i+batch_size])\n",
    "        predicted_embs = np.concatenate([predicted_embs, outputs.cpu()])\n",
    "\n",
    "        loss = torch.sqrt(criterion(outputs, y_test[i:i+batch_size]))\n",
    "        total_loss += loss.item()\n",
    "\n",
    "total_loss/test_batches"
   ]
  },
  {
   "cell_type": "markdown",
   "id": "5a2d93cf",
   "metadata": {},
   "source": [
    "### Save embeddings"
   ]
  },
  {
   "cell_type": "code",
   "execution_count": 16,
   "id": "77cb0d27",
   "metadata": {},
   "outputs": [],
   "source": [
    "np.save(\"embeds/DistilBERT_test_preds.npy\", predicted_embs[1:])"
   ]
  },
  {
   "cell_type": "markdown",
   "id": "3881e278",
   "metadata": {},
   "source": [
    "### Winoground embeddings"
   ]
  },
  {
   "cell_type": "code",
   "execution_count": 16,
   "id": "84fcda52",
   "metadata": {},
   "outputs": [
    {
     "data": {
      "text/plain": [
       "torch.Size([800, 32])"
      ]
     },
     "execution_count": 16,
     "metadata": {},
     "output_type": "execute_result"
    }
   ],
   "source": [
    "win_df = pd.read_json(\"data/examples.jsonl\", lines=True)\n",
    "win_distilbert = distilbert_tokenizer.batch_encode_plus(win_df['caption_0'].tolist() + win_df['caption_1'].tolist(), return_tensors='pt', padding=True, add_special_tokens=True).to(device)\n",
    "win_distilbert['input_ids'].shape"
   ]
  },
  {
   "cell_type": "code",
   "execution_count": 17,
   "id": "aea4086b",
   "metadata": {},
   "outputs": [
    {
     "name": "stderr",
     "output_type": "stream",
     "text": [
      "100%|██████████████████████████████████████████████| 50/50 [00:00<00:00, 119.67it/s]\n"
     ]
    }
   ],
   "source": [
    "win_embs = np.array([[0]*768])\n",
    "with torch.no_grad():\n",
    "    X = win_distilbert['input_ids']\n",
    "    masks = win_distilbert['attention_mask']\n",
    "    for i in tqdm(range(0, X.size()[0], batch_size)):\n",
    "        outputs = distilbert_model(X[i:i+batch_size], mask=masks[i:i+batch_size])\n",
    "        win_embs = np.concatenate([win_embs, outputs.cpu()])"
   ]
  },
  {
   "cell_type": "code",
   "execution_count": 18,
   "id": "d730b23c",
   "metadata": {},
   "outputs": [],
   "source": [
    "np.save(\"embeds/DistilBERT_win_preds.npy\", win_embs[1:])"
   ]
  },
  {
   "cell_type": "code",
   "execution_count": null,
   "id": "37036dd3",
   "metadata": {},
   "outputs": [],
   "source": []
  }
 ],
 "metadata": {
  "kernelspec": {
   "display_name": "Python 3 (ipykernel)",
   "language": "python",
   "name": "python3"
  },
  "language_info": {
   "codemirror_mode": {
    "name": "ipython",
    "version": 3
   },
   "file_extension": ".py",
   "mimetype": "text/x-python",
   "name": "python",
   "nbconvert_exporter": "python",
   "pygments_lexer": "ipython3",
   "version": "3.9.7"
  }
 },
 "nbformat": 4,
 "nbformat_minor": 5
}
