{
 "cells": [
  {
   "cell_type": "code",
   "execution_count": 1,
   "id": "b928968f",
   "metadata": {},
   "outputs": [],
   "source": [
    "from embedding_reader import EmbeddingReader\n",
    "import numpy as np\n",
    "import pandas as pd\n",
    "import torch\n",
    "import torch.nn as nn\n",
    "import torch.nn.functional as F\n",
    "from tqdm import tqdm\n",
    "import os\n",
    "import math"
   ]
  },
  {
   "cell_type": "markdown",
   "id": "82a66d6d",
   "metadata": {},
   "source": [
    "# Load LAION CLIP Data"
   ]
  },
  {
   "cell_type": "markdown",
   "id": "41dc1743",
   "metadata": {},
   "source": [
    "### Fetch if not already stored"
   ]
  },
  {
   "cell_type": "code",
   "execution_count": 2,
   "id": "3aeb4ea5",
   "metadata": {},
   "outputs": [
    {
     "name": "stderr",
     "output_type": "stream",
     "text": [
      "100%|██████████████████████████████████████████████████████████████| 4611/4611 [03:19<00:00, 23.07it/s]"
     ]
    },
    {
     "name": "stdout",
     "output_type": "stream",
     "text": [
      "embedding count 116341562\n",
      "dimension 768\n",
      "total size 178700639232\n",
      "byte per item 1536\n"
     ]
    },
    {
     "name": "stderr",
     "output_type": "stream",
     "text": [
      "\n"
     ]
    }
   ],
   "source": [
    "# emebeddings are .npy\n",
    "# metadata is .paraquet\n",
    "embedding_reader = EmbeddingReader(\n",
    "    embeddings_folder=\"https://mystic.the-eye.eu/public/AI/cah/laion5b/embeddings/laion2B-en/\",\n",
    "    metadata_folder=\"https://mystic.the-eye.eu/public/AI/cah/laion5b/metadata/laion2B-en/\",\n",
    "    meta_columns=['SAMPLE_ID', 'TEXT'],\n",
    "    file_format=\"parquet_npy\"\n",
    ")\n",
    "print(\"embedding count\", embedding_reader.count)\n",
    "print(\"dimension\", embedding_reader.dimension)\n",
    "print(\"total size\", embedding_reader.total_size)\n",
    "print(\"byte per item\", embedding_reader.byte_per_item)"
   ]
  },
  {
   "cell_type": "code",
   "execution_count": 3,
   "id": "34f1b4fc",
   "metadata": {},
   "outputs": [
    {
     "name": "stderr",
     "output_type": "stream",
     "text": [
      "100%|███████████████████████████████████████████████████████████████████| 1/1 [02:06<00:00, 126.01s/it]"
     ]
    },
    {
     "name": "stdout",
     "output_type": "stream",
     "text": [
      "(10000, 768)\n",
      "30000\n"
     ]
    },
    {
     "name": "stderr",
     "output_type": "stream",
     "text": [
      "\n"
     ]
    }
   ],
   "source": [
    "for emb, meta in embedding_reader(batch_size=10 ** 4, start=0, end=10 ** 4, show_progress=True):\n",
    "    print(emb.shape)\n",
    "    print(meta.size)"
   ]
  },
  {
   "cell_type": "code",
   "execution_count": 6,
   "id": "549b5567",
   "metadata": {},
   "outputs": [],
   "source": [
    "meta['emb'] = emb.tolist()"
   ]
  },
  {
   "cell_type": "code",
   "execution_count": 15,
   "id": "87162005",
   "metadata": {},
   "outputs": [],
   "source": [
    "meta.to_parquet('data/laion2B-10000.parquet.gzip', compression='gzip')"
   ]
  },
  {
   "cell_type": "markdown",
   "id": "b6a787ab",
   "metadata": {},
   "source": [
    "### Create Dataset and Splits"
   ]
  },
  {
   "cell_type": "code",
   "execution_count": 2,
   "id": "bfd39617",
   "metadata": {},
   "outputs": [
    {
     "data": {
      "text/plain": [
       "device(type='cuda')"
      ]
     },
     "execution_count": 2,
     "metadata": {},
     "output_type": "execute_result"
    }
   ],
   "source": [
    "device = torch.device(\"cuda\") if torch.cuda.is_available() else torch.device(\"cpu\")\n",
    "device"
   ]
  },
  {
   "cell_type": "code",
   "execution_count": 3,
   "id": "f216efbb",
   "metadata": {},
   "outputs": [],
   "source": [
    "torch.cuda.set_device(1)"
   ]
  },
  {
   "cell_type": "code",
   "execution_count": 4,
   "id": "b428ed7e",
   "metadata": {},
   "outputs": [],
   "source": [
    "meta = pd.read_parquet('data/laion2B-10000.parquet.gzip')"
   ]
  },
  {
   "cell_type": "code",
   "execution_count": 5,
   "id": "1c6e6cdd",
   "metadata": {},
   "outputs": [
    {
     "name": "stderr",
     "output_type": "stream",
     "text": [
      "/tmp/ipykernel_90036/3476993897.py:1: UserWarning: Creating a tensor from a list of numpy.ndarrays is extremely slow. Please consider converting the list to a single numpy.ndarray with numpy.array() before converting to a tensor. (Triggered internally at  ../torch/csrc/utils/tensor_new.cpp:210.)\n",
      "  emb = torch.Tensor(meta['emb'])\n"
     ]
    }
   ],
   "source": [
    "emb = torch.Tensor(meta['emb'])"
   ]
  },
  {
   "cell_type": "code",
   "execution_count": 6,
   "id": "51d58253",
   "metadata": {},
   "outputs": [],
   "source": [
    "train_idx = int(len(meta) * 0.8)\n",
    "x_train, y_train = meta['TEXT'][:train_idx], emb[:train_idx]\n",
    "x_test, y_test = meta['TEXT'][train_idx:], emb[train_idx:]"
   ]
  },
  {
   "cell_type": "code",
   "execution_count": 7,
   "id": "e0064e41",
   "metadata": {},
   "outputs": [
    {
     "data": {
      "text/plain": [
       "((8000,), torch.Size([8000, 768]), (2000,), torch.Size([2000, 768]))"
      ]
     },
     "execution_count": 7,
     "metadata": {},
     "output_type": "execute_result"
    }
   ],
   "source": [
    "x_train.shape, y_train.size(), x_test.shape, y_test.size()"
   ]
  },
  {
   "cell_type": "markdown",
   "id": "c51cb2a6",
   "metadata": {},
   "source": [
    "# Fine-tune LM -> Predict CLIP image embeddings"
   ]
  },
  {
   "cell_type": "code",
   "execution_count": 8,
   "id": "e16fef2d",
   "metadata": {},
   "outputs": [],
   "source": [
    "from transformers import AutoModel, AutoTokenizer"
   ]
  },
  {
   "cell_type": "code",
   "execution_count": 9,
   "id": "45493114",
   "metadata": {},
   "outputs": [],
   "source": [
    "epochs = 4\n",
    "batch_size = 16\n",
    "train_batches = math.ceil(x_train.shape[0]/batch_size)\n",
    "test_batches = math.ceil(x_test.shape[0]/batch_size)"
   ]
  },
  {
   "cell_type": "markdown",
   "id": "ea21dcf0",
   "metadata": {},
   "source": [
    "## BERT"
   ]
  },
  {
   "cell_type": "code",
   "execution_count": 90,
   "id": "f824ff98",
   "metadata": {},
   "outputs": [],
   "source": [
    "class CLIPEmbBERT(nn.Module):\n",
    "    def __init__(self):\n",
    "        super(CLIPEmbBERT, self).__init__()\n",
    "        self.model = AutoModel.from_pretrained(\"bert-base-uncased\")\n",
    "        for param in self.model.parameters():\n",
    "            param.requires_grad = False\n",
    "        ### New layers:\n",
    "        self.linear1 = nn.Linear(768, 1024)\n",
    "        self.linear2 = nn.Linear(1024, 768)\n",
    "        \n",
    "\n",
    "    def forward(self, tokens, mask):\n",
    "        cls_embedding = self.model(tokens, attention_mask=mask).pooler_output\n",
    "        out = self.linear1(cls_embedding)\n",
    "        out = self.linear2(out)\n",
    "\n",
    "        return out "
   ]
  },
  {
   "cell_type": "code",
   "execution_count": 97,
   "id": "5238a6eb",
   "metadata": {
    "scrolled": true
   },
   "outputs": [
    {
     "name": "stderr",
     "output_type": "stream",
     "text": [
      "Some weights of the model checkpoint at bert-base-uncased were not used when initializing BertModel: ['cls.predictions.transform.dense.weight', 'cls.predictions.bias', 'cls.predictions.transform.dense.bias', 'cls.predictions.decoder.weight', 'cls.seq_relationship.bias', 'cls.predictions.transform.LayerNorm.bias', 'cls.seq_relationship.weight', 'cls.predictions.transform.LayerNorm.weight']\n",
      "- This IS expected if you are initializing BertModel from the checkpoint of a model trained on another task or with another architecture (e.g. initializing a BertForSequenceClassification model from a BertForPreTraining model).\n",
      "- This IS NOT expected if you are initializing BertModel from the checkpoint of a model that you expect to be exactly identical (initializing a BertForSequenceClassification model from a BertForSequenceClassification model).\n"
     ]
    }
   ],
   "source": [
    "bert_model = CLIPEmbBERT()\n",
    "bert_model.to(device)\n",
    "\n",
    "bert_tokenizer = AutoTokenizer.from_pretrained(\"bert-base-uncased\")\n",
    "\n",
    "criterion = nn.MSELoss()\n",
    "optimizer = torch.optim.Adam(bert_model.parameters(), lr=5e-5, weight_decay=3e-6)"
   ]
  },
  {
   "cell_type": "code",
   "execution_count": 98,
   "id": "f1306712",
   "metadata": {},
   "outputs": [],
   "source": [
    "x_train_bert = bert_tokenizer.batch_encode_plus(list(x_train), return_tensors='pt', padding=True, add_special_tokens=True).to(device)\n",
    "y_train = y_train.to(device)"
   ]
  },
  {
   "cell_type": "code",
   "execution_count": 99,
   "id": "a3749f9a",
   "metadata": {
    "scrolled": true
   },
   "outputs": [
    {
     "name": "stderr",
     "output_type": "stream",
     "text": [
      "100%|██████████████████████████████████████████████| 500/500 [00:19<00:00, 25.69it/s]\n"
     ]
    },
    {
     "name": "stdout",
     "output_type": "stream",
     "text": [
      "Loss Epoch 1 / 4: 0.04026263348013163\n"
     ]
    },
    {
     "name": "stderr",
     "output_type": "stream",
     "text": [
      "100%|██████████████████████████████████████████████| 500/500 [00:19<00:00, 25.85it/s]\n"
     ]
    },
    {
     "name": "stdout",
     "output_type": "stream",
     "text": [
      "Loss Epoch 2 / 4: 0.03314060392603278\n"
     ]
    },
    {
     "name": "stderr",
     "output_type": "stream",
     "text": [
      "100%|██████████████████████████████████████████████| 500/500 [00:19<00:00, 25.84it/s]\n"
     ]
    },
    {
     "name": "stdout",
     "output_type": "stream",
     "text": [
      "Loss Epoch 3 / 4: 0.031828350599855185\n"
     ]
    },
    {
     "name": "stderr",
     "output_type": "stream",
     "text": [
      "100%|██████████████████████████████████████████████| 500/500 [00:19<00:00, 25.84it/s]"
     ]
    },
    {
     "name": "stdout",
     "output_type": "stream",
     "text": [
      "Loss Epoch 4 / 4: 0.031118932079523803\n",
      "CPU times: user 1min 16s, sys: 1.03 s, total: 1min 17s\n",
      "Wall time: 1min 17s\n"
     ]
    },
    {
     "name": "stderr",
     "output_type": "stream",
     "text": [
      "\n"
     ]
    }
   ],
   "source": [
    "%%time\n",
    "bert_model.train()\n",
    "for epoch in range(epochs):\n",
    "    \n",
    "    rand_ids = torch.randperm(x_train_bert['input_ids'].size()[0])\n",
    "    X = x_train_bert['input_ids'][rand_ids]\n",
    "    masks = x_train_bert['attention_mask'][rand_ids]\n",
    "    \n",
    "    total_loss = 0.0\n",
    "    \n",
    "    for i in tqdm(range(0, X.size()[0], batch_size)):\n",
    "        optimizer.zero_grad()\n",
    "        \n",
    "        outputs = bert_model(X[i:i+batch_size], mask=masks[i:i+batch_size])\n",
    "        \n",
    "        loss = torch.sqrt(criterion(outputs, y_train[i:i+batch_size]))\n",
    "        total_loss += loss.item()\n",
    "\n",
    "        loss.backward()\n",
    "        optimizer.step()\n",
    "    \n",
    "    print(f\"Loss Epoch {epoch+1} / {epochs}: {total_loss/train_batches}\")"
   ]
  },
  {
   "cell_type": "code",
   "execution_count": 100,
   "id": "530faaf9",
   "metadata": {},
   "outputs": [],
   "source": [
    "x_test_bert = bert_tokenizer.batch_encode_plus(list(x_test), return_tensors='pt', padding=True, add_special_tokens=True).to(device)\n",
    "y_test = y_test.to(device)"
   ]
  },
  {
   "cell_type": "code",
   "execution_count": 101,
   "id": "8a78670c",
   "metadata": {},
   "outputs": [
    {
     "name": "stderr",
     "output_type": "stream",
     "text": [
      "100%|██████████████████████████████████████████████| 125/125 [00:04<00:00, 28.50it/s]\n"
     ]
    },
    {
     "data": {
      "text/plain": [
       "0.030406540259718895"
      ]
     },
     "execution_count": 101,
     "metadata": {},
     "output_type": "execute_result"
    }
   ],
   "source": [
    "predicted_embs = np.array([[0]*768])\n",
    "bert_model.eval()\n",
    "with torch.no_grad():\n",
    "    X = x_test_bert['input_ids']\n",
    "    masks = x_test_bert['attention_mask']\n",
    "    total_loss = 0.0\n",
    "    for i in tqdm(range(0, X.size()[0], batch_size)):\n",
    "        outputs = bert_model(X[i:i+batch_size], mask=masks[i:i+batch_size])\n",
    "        predicted_embs = np.concatenate([predicted_embs, outputs.cpu()])\n",
    "\n",
    "        loss = torch.sqrt(criterion(outputs, y_test[i:i+batch_size]))\n",
    "        total_loss += loss.item()\n",
    "\n",
    "total_loss/test_batches"
   ]
  },
  {
   "cell_type": "code",
   "execution_count": 102,
   "id": "c974d939",
   "metadata": {},
   "outputs": [
    {
     "data": {
      "text/plain": [
       "array([[ 0.0165555 ,  0.03351349,  0.02410737, ...,  0.00684628,\n",
       "        -0.00677852, -0.0115644 ],\n",
       "       [ 0.03341193,  0.00343005, -0.00269516, ..., -0.01118771,\n",
       "         0.0062623 , -0.01241021],\n",
       "       [ 0.03579801,  0.02571776,  0.01572936, ...,  0.00420775,\n",
       "         0.0018131 , -0.00699689],\n",
       "       ...,\n",
       "       [ 0.01789567,  0.01747628,  0.02883603, ...,  0.00054394,\n",
       "         0.00277947, -0.00023974],\n",
       "       [ 0.01404809,  0.04418744,  0.00210286, ...,  0.02715633,\n",
       "         0.02589402, -0.02859953],\n",
       "       [ 0.03262623,  0.025831  ,  0.01618475, ...,  0.010462  ,\n",
       "         0.01251491, -0.01629806]])"
      ]
     },
     "execution_count": 102,
     "metadata": {},
     "output_type": "execute_result"
    }
   ],
   "source": [
    "predicted_embs[1:]"
   ]
  },
  {
   "cell_type": "markdown",
   "id": "67209c37",
   "metadata": {},
   "source": [
    "### Save LAION-2B embeddings"
   ]
  },
  {
   "cell_type": "code",
   "execution_count": 103,
   "id": "f5bbf7c9",
   "metadata": {},
   "outputs": [],
   "source": [
    "np.save(\"embeds/BERT_test_preds.npy\", predicted_embs[1:])\n",
    "np.save(\"embeds/LAION_test_gt.npy\", np.array(y_test.cpu()))"
   ]
  },
  {
   "cell_type": "markdown",
   "id": "0517205b",
   "metadata": {},
   "source": [
    "### Winoground embeddings"
   ]
  },
  {
   "cell_type": "code",
   "execution_count": 104,
   "id": "a501ef5b",
   "metadata": {},
   "outputs": [
    {
     "data": {
      "text/plain": [
       "torch.Size([800, 32])"
      ]
     },
     "execution_count": 104,
     "metadata": {},
     "output_type": "execute_result"
    }
   ],
   "source": [
    "win_df = pd.read_json(\"data/examples.jsonl\", lines=True)\n",
    "win_bert = bert_tokenizer.batch_encode_plus(win_df['caption_0'].tolist() + win_df['caption_1'].tolist(), return_tensors='pt', padding=True, add_special_tokens=True).to(device)\n",
    "win_bert['input_ids'].shape"
   ]
  },
  {
   "cell_type": "code",
   "execution_count": 105,
   "id": "a85b3f74",
   "metadata": {},
   "outputs": [
    {
     "name": "stderr",
     "output_type": "stream",
     "text": [
      "100%|████████████████████████████████████████████████| 50/50 [00:00<00:00, 95.00it/s]\n"
     ]
    }
   ],
   "source": [
    "win_embs = np.array([[0]*768])\n",
    "with torch.no_grad():\n",
    "    X = win_bert['input_ids']\n",
    "    masks = win_bert['attention_mask']\n",
    "    for i in tqdm(range(0, X.size()[0], batch_size)):\n",
    "        outputs = bert_model(X[i:i+batch_size], mask=masks[i:i+batch_size])\n",
    "        win_embs = np.concatenate([win_embs, outputs.cpu()])"
   ]
  },
  {
   "cell_type": "code",
   "execution_count": 106,
   "id": "f239f388",
   "metadata": {},
   "outputs": [],
   "source": [
    "np.save(\"embeds/BERT_win_preds.npy\", win_embs[1:])"
   ]
  },
  {
   "cell_type": "markdown",
   "id": "23fd3550",
   "metadata": {},
   "source": [
    "## DistilBERT"
   ]
  },
  {
   "cell_type": "code",
   "execution_count": 10,
   "id": "43900e08",
   "metadata": {},
   "outputs": [],
   "source": [
    "from transformers import DistilBertForSequenceClassification\n",
    "class CLIPEmbDistilBERT(nn.Module):\n",
    "    def __init__(self):\n",
    "        super(CLIPEmbDistilBERT, self).__init__()\n",
    "        self.model = DistilBertForSequenceClassification.from_pretrained(\"distilbert-base-uncased\", num_labels=768)\n",
    "        for param in self.model.parameters():\n",
    "            param.requires_grad = False\n",
    "        ### New layers:\n",
    "        self.linear1 = nn.Linear(768, 1024)\n",
    "        self.linear2 = nn.Linear(1024, 768)\n",
    "        \n",
    "\n",
    "    def forward(self, tokens, mask):\n",
    "        cls_embedding = self.model(tokens, attention_mask=mask).logits\n",
    "        out = self.linear1(cls_embedding)\n",
    "        out = self.linear2(out)\n",
    "\n",
    "        return out "
   ]
  },
  {
   "cell_type": "code",
   "execution_count": 30,
   "id": "ccb5f9b3",
   "metadata": {},
   "outputs": [
    {
     "name": "stderr",
     "output_type": "stream",
     "text": [
      "Some weights of the model checkpoint at distilbert-base-uncased were not used when initializing DistilBertForSequenceClassification: ['vocab_projector.weight', 'vocab_projector.bias', 'vocab_layer_norm.bias', 'vocab_layer_norm.weight', 'vocab_transform.bias', 'vocab_transform.weight']\n",
      "- This IS expected if you are initializing DistilBertForSequenceClassification from the checkpoint of a model trained on another task or with another architecture (e.g. initializing a BertForSequenceClassification model from a BertForPreTraining model).\n",
      "- This IS NOT expected if you are initializing DistilBertForSequenceClassification from the checkpoint of a model that you expect to be exactly identical (initializing a BertForSequenceClassification model from a BertForSequenceClassification model).\n",
      "Some weights of DistilBertForSequenceClassification were not initialized from the model checkpoint at distilbert-base-uncased and are newly initialized: ['classifier.bias', 'pre_classifier.weight', 'classifier.weight', 'pre_classifier.bias']\n",
      "You should probably TRAIN this model on a down-stream task to be able to use it for predictions and inference.\n"
     ]
    }
   ],
   "source": [
    "distilbert_model = CLIPEmbDistilBERT()\n",
    "distilbert_model.to(device)\n",
    "\n",
    "distilbert_tokenizer = AutoTokenizer.from_pretrained(\"distilbert-base-cased\")\n",
    "\n",
    "criterion = nn.MSELoss()\n",
    "optimizer = torch.optim.Adam(distilbert_model.parameters(), lr=3e-5, weight_decay=3e-6)"
   ]
  },
  {
   "cell_type": "code",
   "execution_count": 31,
   "id": "767d05a6",
   "metadata": {},
   "outputs": [],
   "source": [
    "x_train_distilbert = distilbert_tokenizer.batch_encode_plus(list(x_train), return_tensors='pt', padding=True, add_special_tokens=True).to(device)\n",
    "y_train = y_train.to(device)"
   ]
  },
  {
   "cell_type": "code",
   "execution_count": 32,
   "id": "ec4a5ed7",
   "metadata": {},
   "outputs": [
    {
     "name": "stderr",
     "output_type": "stream",
     "text": [
      "100%|██████████████████████████████████████████████| 500/500 [00:10<00:00, 49.17it/s]\n"
     ]
    },
    {
     "name": "stdout",
     "output_type": "stream",
     "text": [
      "Loss Epoch 1 / 4: 0.03265494028106332\n"
     ]
    },
    {
     "name": "stderr",
     "output_type": "stream",
     "text": [
      "100%|██████████████████████████████████████████████| 500/500 [00:10<00:00, 49.36it/s]\n"
     ]
    },
    {
     "name": "stdout",
     "output_type": "stream",
     "text": [
      "Loss Epoch 2 / 4: 0.03028310514241457\n"
     ]
    },
    {
     "name": "stderr",
     "output_type": "stream",
     "text": [
      "100%|██████████████████████████████████████████████| 500/500 [00:09<00:00, 50.39it/s]\n"
     ]
    },
    {
     "name": "stdout",
     "output_type": "stream",
     "text": [
      "Loss Epoch 3 / 4: 0.029588653806596994\n"
     ]
    },
    {
     "name": "stderr",
     "output_type": "stream",
     "text": [
      "100%|██████████████████████████████████████████████| 500/500 [00:09<00:00, 50.53it/s]"
     ]
    },
    {
     "name": "stdout",
     "output_type": "stream",
     "text": [
      "Loss Epoch 4 / 4: 0.029224651232361794\n"
     ]
    },
    {
     "name": "stderr",
     "output_type": "stream",
     "text": [
      "\n"
     ]
    }
   ],
   "source": [
    "distilbert_model.train()\n",
    "for epoch in range(epochs):\n",
    "    \n",
    "    rand_ids = torch.randperm(x_train_distilbert['input_ids'].size()[0])\n",
    "    X = x_train_distilbert['input_ids'][rand_ids]\n",
    "    masks = x_train_distilbert['attention_mask'][rand_ids]\n",
    "    \n",
    "    total_loss = 0.0\n",
    "    \n",
    "    for i in tqdm(range(0, X.size()[0], batch_size)):\n",
    "        optimizer.zero_grad()\n",
    "        \n",
    "        outputs = distilbert_model(X[i:i+batch_size], mask=masks[i:i+batch_size])\n",
    "        \n",
    "        loss = torch.sqrt(criterion(outputs, y_train[i:i+batch_size]))\n",
    "        total_loss += loss.item()\n",
    "\n",
    "        loss.backward()\n",
    "        optimizer.step()\n",
    "    \n",
    "    print(f\"Loss Epoch {epoch+1} / {epochs}: {total_loss/train_batches}\")"
   ]
  },
  {
   "cell_type": "code",
   "execution_count": 33,
   "id": "f258a528",
   "metadata": {},
   "outputs": [],
   "source": [
    "x_test_distilbert = distilbert_tokenizer.batch_encode_plus(list(x_test), return_tensors='pt', padding=True, add_special_tokens=True).to(device)\n",
    "y_test = y_test.to(device)"
   ]
  },
  {
   "cell_type": "code",
   "execution_count": 34,
   "id": "f90afad9",
   "metadata": {},
   "outputs": [
    {
     "name": "stderr",
     "output_type": "stream",
     "text": [
      "100%|██████████████████████████████████████████████| 125/125 [00:02<00:00, 51.60it/s]\n"
     ]
    },
    {
     "data": {
      "text/plain": [
       "0.028273208543658255"
      ]
     },
     "execution_count": 34,
     "metadata": {},
     "output_type": "execute_result"
    }
   ],
   "source": [
    "predicted_embs = np.array([[0]*768])\n",
    "distilbert_model.eval()\n",
    "with torch.no_grad():\n",
    "    X = x_test_distilbert['input_ids']\n",
    "    masks = x_test_distilbert['attention_mask']\n",
    "    total_loss = 0.0\n",
    "    for i in tqdm(range(0, X.size()[0], batch_size)):\n",
    "        outputs = distilbert_model(X[i:i+batch_size], mask=masks[i:i+batch_size])\n",
    "        predicted_embs = np.concatenate([predicted_embs, outputs.cpu()])\n",
    "\n",
    "        loss = torch.sqrt(criterion(outputs, y_test[i:i+batch_size]))\n",
    "        total_loss += loss.item()\n",
    "\n",
    "total_loss/test_batches"
   ]
  },
  {
   "cell_type": "code",
   "execution_count": 36,
   "id": "efd27214",
   "metadata": {},
   "outputs": [
    {
     "data": {
      "text/plain": [
       "array([[ 0.02629502,  0.0218821 ,  0.00022918, ...,  0.01273302,\n",
       "        -0.00452789, -0.00140381],\n",
       "       [ 0.02734128,  0.0214195 ,  0.00020625, ...,  0.00506776,\n",
       "        -0.00234368,  0.00178314],\n",
       "       [ 0.021662  ,  0.01842918, -0.00124166, ...,  0.01000047,\n",
       "        -0.00620675, -0.0024468 ],\n",
       "       ...,\n",
       "       [ 0.02207613,  0.02050962,  0.00670609, ...,  0.0037114 ,\n",
       "        -0.00767948, -0.00495844],\n",
       "       [ 0.02228279,  0.02043567,  0.00370518, ...,  0.0058035 ,\n",
       "        -0.00285789,  0.00020745],\n",
       "       [ 0.02511614,  0.02209706,  0.00242683, ...,  0.00734688,\n",
       "        -0.00405447,  0.0002732 ]])"
      ]
     },
     "execution_count": 36,
     "metadata": {},
     "output_type": "execute_result"
    }
   ],
   "source": [
    "predicted_embs[1:]"
   ]
  },
  {
   "cell_type": "markdown",
   "id": "5a2d93cf",
   "metadata": {},
   "source": [
    "### Save embeddings"
   ]
  },
  {
   "cell_type": "code",
   "execution_count": 37,
   "id": "77cb0d27",
   "metadata": {},
   "outputs": [],
   "source": [
    "np.save(\"embeds/DistilBERT_test_preds.npy\", predicted_embs[1:])"
   ]
  },
  {
   "cell_type": "markdown",
   "id": "3881e278",
   "metadata": {},
   "source": [
    "### Winoground embeddings"
   ]
  },
  {
   "cell_type": "code",
   "execution_count": 38,
   "id": "84fcda52",
   "metadata": {},
   "outputs": [
    {
     "data": {
      "text/plain": [
       "torch.Size([800, 32])"
      ]
     },
     "execution_count": 38,
     "metadata": {},
     "output_type": "execute_result"
    }
   ],
   "source": [
    "win_df = pd.read_json(\"data/examples.jsonl\", lines=True)\n",
    "win_distilbert = distilbert_tokenizer.batch_encode_plus(win_df['caption_0'].tolist() + win_df['caption_1'].tolist(), return_tensors='pt', padding=True, add_special_tokens=True).to(device)\n",
    "win_distilbert['input_ids'].shape"
   ]
  },
  {
   "cell_type": "code",
   "execution_count": 39,
   "id": "aea4086b",
   "metadata": {},
   "outputs": [
    {
     "name": "stderr",
     "output_type": "stream",
     "text": [
      "100%|███████████████████████████████████████████████| 50/50 [00:00<00:00, 160.69it/s]\n"
     ]
    }
   ],
   "source": [
    "win_embs = np.array([[0]*768])\n",
    "with torch.no_grad():\n",
    "    X = win_distilbert['input_ids']\n",
    "    masks = win_distilbert['attention_mask']\n",
    "    for i in tqdm(range(0, X.size()[0], batch_size)):\n",
    "        outputs = distilbert_model(X[i:i+batch_size], mask=masks[i:i+batch_size])\n",
    "        win_embs = np.concatenate([win_embs, outputs.cpu()])"
   ]
  },
  {
   "cell_type": "code",
   "execution_count": 40,
   "id": "d730b23c",
   "metadata": {},
   "outputs": [],
   "source": [
    "np.save(\"embeds/DistilBERT_win_preds.npy\", win_embs[1:])"
   ]
  },
  {
   "cell_type": "code",
   "execution_count": 45,
   "id": "37036dd3",
   "metadata": {},
   "outputs": [
    {
     "data": {
      "text/plain": [
       "0.41961190452122643"
      ]
     },
     "execution_count": 45,
     "metadata": {},
     "output_type": "execute_result"
    }
   ],
   "source": [
    "win_embs[1] @ win_embs[401].T "
   ]
  },
  {
   "cell_type": "code",
   "execution_count": 46,
   "id": "d19ace2f",
   "metadata": {},
   "outputs": [
    {
     "data": {
      "text/plain": [
       "(tensor([ 101, 1126, 1385, 1825, 8514,  170, 1685, 1825,  102,    0,    0,    0,\n",
       "            0,    0,    0,    0,    0,    0,    0,    0,    0,    0,    0,    0,\n",
       "            0,    0,    0,    0,    0,    0,    0,    0], device='cuda:1'),\n",
       " tensor([ 101,  170, 1685, 1825, 8514, 1126, 1385, 1825,  102,    0,    0,    0,\n",
       "            0,    0,    0,    0,    0,    0,    0,    0,    0,    0,    0,    0,\n",
       "            0,    0,    0,    0,    0,    0,    0,    0], device='cuda:1'))"
      ]
     },
     "execution_count": 46,
     "metadata": {},
     "output_type": "execute_result"
    }
   ],
   "source": [
    "X[0], X[400]"
   ]
  },
  {
   "cell_type": "code",
   "execution_count": null,
   "id": "93e42285",
   "metadata": {},
   "outputs": [],
   "source": []
  }
 ],
 "metadata": {
  "kernelspec": {
   "display_name": "Python 3 (ipykernel)",
   "language": "python",
   "name": "python3"
  },
  "language_info": {
   "codemirror_mode": {
    "name": "ipython",
    "version": 3
   },
   "file_extension": ".py",
   "mimetype": "text/x-python",
   "name": "python",
   "nbconvert_exporter": "python",
   "pygments_lexer": "ipython3",
   "version": "3.9.7"
  }
 },
 "nbformat": 4,
 "nbformat_minor": 5
}
