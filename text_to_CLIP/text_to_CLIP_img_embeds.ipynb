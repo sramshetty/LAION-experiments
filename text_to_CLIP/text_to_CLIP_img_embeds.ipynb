{
 "cells": [
  {
   "cell_type": "code",
   "execution_count": 2,
   "id": "b928968f",
   "metadata": {},
   "outputs": [],
   "source": [
    "from embedding_reader import EmbeddingReader\n",
    "import numpy as np\n",
    "import pandas as pd\n",
    "import torch\n",
    "import torch.nn as nn\n",
    "import torch.nn.functional as F\n",
    "from tqdm import tqdm"
   ]
  },
  {
   "cell_type": "markdown",
   "id": "82a66d6d",
   "metadata": {},
   "source": [
    "# Load LAION CLIP Data"
   ]
  },
  {
   "cell_type": "code",
   "execution_count": 3,
   "id": "3aeb4ea5",
   "metadata": {},
   "outputs": [
    {
     "name": "stderr",
     "output_type": "stream",
     "text": [
      "100%|██████████████████████████████████████████████████████████████| 4611/4611 [03:10<00:00, 24.17it/s]"
     ]
    },
    {
     "name": "stdout",
     "output_type": "stream",
     "text": [
      "embedding count 116341562\n",
      "dimension 768\n",
      "total size 178700639232\n",
      "byte per item 1536\n"
     ]
    },
    {
     "name": "stderr",
     "output_type": "stream",
     "text": [
      "\n"
     ]
    }
   ],
   "source": [
    "# emebeddings are .npy\n",
    "# metadata is .paraquet\n",
    "embedding_reader = EmbeddingReader(\n",
    "    embeddings_folder=\"https://mystic.the-eye.eu/public/AI/cah/laion5b/embeddings/laion2B-en/\",\n",
    "    metadata_folder=\"https://mystic.the-eye.eu/public/AI/cah/laion5b/metadata/laion2B-en/\",\n",
    "    meta_columns=['SAMPLE_ID', 'TEXT'],\n",
    "    file_format=\"parquet_npy\"\n",
    ")\n",
    "print(\"embedding count\", embedding_reader.count)\n",
    "print(\"dimension\", embedding_reader.dimension)\n",
    "print(\"total size\", embedding_reader.total_size)\n",
    "print(\"byte per item\", embedding_reader.byte_per_item)"
   ]
  },
  {
   "cell_type": "code",
   "execution_count": 4,
   "id": "34f1b4fc",
   "metadata": {},
   "outputs": [
    {
     "name": "stderr",
     "output_type": "stream",
     "text": [
      "100%|████████████████████████████████████████████████████████████████████| 1/1 [01:27<00:00, 87.03s/it]"
     ]
    },
    {
     "name": "stdout",
     "output_type": "stream",
     "text": [
      "(10000, 768)\n",
      "30000\n"
     ]
    },
    {
     "name": "stderr",
     "output_type": "stream",
     "text": [
      "\n"
     ]
    }
   ],
   "source": [
    "for emb, meta in embedding_reader(batch_size=10 ** 4, start=0, end=10 ** 4, show_progress=True):\n",
    "    print(emb.shape)\n",
    "    print(meta.size)"
   ]
  },
  {
   "cell_type": "code",
   "execution_count": 5,
   "id": "87162005",
   "metadata": {},
   "outputs": [
    {
     "data": {
      "text/html": [
       "<div>\n",
       "<style scoped>\n",
       "    .dataframe tbody tr th:only-of-type {\n",
       "        vertical-align: middle;\n",
       "    }\n",
       "\n",
       "    .dataframe tbody tr th {\n",
       "        vertical-align: top;\n",
       "    }\n",
       "\n",
       "    .dataframe thead th {\n",
       "        text-align: right;\n",
       "    }\n",
       "</style>\n",
       "<table border=\"1\" class=\"dataframe\">\n",
       "  <thead>\n",
       "    <tr style=\"text-align: right;\">\n",
       "      <th></th>\n",
       "      <th>SAMPLE_ID</th>\n",
       "      <th>TEXT</th>\n",
       "      <th>i</th>\n",
       "    </tr>\n",
       "  </thead>\n",
       "  <tbody>\n",
       "    <tr>\n",
       "      <th>0</th>\n",
       "      <td>2641080021034</td>\n",
       "      <td>Blue Beach Umbrellas, Point Of Rocks, Crescent...</td>\n",
       "      <td>0</td>\n",
       "    </tr>\n",
       "    <tr>\n",
       "      <th>1</th>\n",
       "      <td>1069682003121</td>\n",
       "      <td>BMW-M2-M-Performance-Dekor-Long-Beach-Blue-05</td>\n",
       "      <td>1</td>\n",
       "    </tr>\n",
       "    <tr>\n",
       "      <th>2</th>\n",
       "      <td>748078005989</td>\n",
       "      <td>Becoming More Than a Good Bible Study Girl: Li...</td>\n",
       "      <td>2</td>\n",
       "    </tr>\n",
       "    <tr>\n",
       "      <th>3</th>\n",
       "      <td>3203431012473</td>\n",
       "      <td>\"Dynabrade 52632 4-1/2\"\" Dia. Right Angle Depr...</td>\n",
       "      <td>3</td>\n",
       "    </tr>\n",
       "    <tr>\n",
       "      <th>4</th>\n",
       "      <td>1517065001181</td>\n",
       "      <td>MANETTE XBOX ONE</td>\n",
       "      <td>4</td>\n",
       "    </tr>\n",
       "    <tr>\n",
       "      <th>...</th>\n",
       "      <td>...</td>\n",
       "      <td>...</td>\n",
       "      <td>...</td>\n",
       "    </tr>\n",
       "    <tr>\n",
       "      <th>9995</th>\n",
       "      <td>524204001683</td>\n",
       "      <td>Sandbags at the flood closeup photo - stock photo</td>\n",
       "      <td>9995</td>\n",
       "    </tr>\n",
       "    <tr>\n",
       "      <th>9996</th>\n",
       "      <td>1021435003676</td>\n",
       "      <td>Jeff Bezos to step down as Amazon CEO, Andy Ja...</td>\n",
       "      <td>9996</td>\n",
       "    </tr>\n",
       "    <tr>\n",
       "      <th>9997</th>\n",
       "      <td>3951388000808</td>\n",
       "      <td>Custom Birthday Message Cookies</td>\n",
       "      <td>9997</td>\n",
       "    </tr>\n",
       "    <tr>\n",
       "      <th>9998</th>\n",
       "      <td>3930703006714</td>\n",
       "      <td>Swedish alphabet with pictures - Learn swedish...</td>\n",
       "      <td>9998</td>\n",
       "    </tr>\n",
       "    <tr>\n",
       "      <th>9999</th>\n",
       "      <td>2251281001986</td>\n",
       "      <td>DISNEY - Mickey Mouse Plush Stuffed Animal - 2...</td>\n",
       "      <td>9999</td>\n",
       "    </tr>\n",
       "  </tbody>\n",
       "</table>\n",
       "<p>10000 rows × 3 columns</p>\n",
       "</div>"
      ],
      "text/plain": [
       "          SAMPLE_ID                                               TEXT     i\n",
       "0     2641080021034  Blue Beach Umbrellas, Point Of Rocks, Crescent...     0\n",
       "1     1069682003121      BMW-M2-M-Performance-Dekor-Long-Beach-Blue-05     1\n",
       "2      748078005989  Becoming More Than a Good Bible Study Girl: Li...     2\n",
       "3     3203431012473  \"Dynabrade 52632 4-1/2\"\" Dia. Right Angle Depr...     3\n",
       "4     1517065001181                                   MANETTE XBOX ONE     4\n",
       "...             ...                                                ...   ...\n",
       "9995   524204001683  Sandbags at the flood closeup photo - stock photo  9995\n",
       "9996  1021435003676  Jeff Bezos to step down as Amazon CEO, Andy Ja...  9996\n",
       "9997  3951388000808                    Custom Birthday Message Cookies  9997\n",
       "9998  3930703006714  Swedish alphabet with pictures - Learn swedish...  9998\n",
       "9999  2251281001986  DISNEY - Mickey Mouse Plush Stuffed Animal - 2...  9999\n",
       "\n",
       "[10000 rows x 3 columns]"
      ]
     },
     "execution_count": 5,
     "metadata": {},
     "output_type": "execute_result"
    }
   ],
   "source": [
    "meta"
   ]
  },
  {
   "cell_type": "code",
   "execution_count": 6,
   "id": "51d58253",
   "metadata": {},
   "outputs": [],
   "source": [
    "train_idx = int(len(meta) * 0.8)\n",
    "x_train, y_train = meta['TEXT'][:train_idx], torch.Tensor(emb[:train_idx])\n",
    "x_test, y_test = meta['TEXT'][train_idx:], torch.Tensor(emb[train_idx:])"
   ]
  },
  {
   "cell_type": "code",
   "execution_count": 7,
   "id": "e0064e41",
   "metadata": {},
   "outputs": [
    {
     "data": {
      "text/plain": [
       "((8000,), torch.Size([8000, 768]), (2000,), torch.Size([2000, 768]))"
      ]
     },
     "execution_count": 7,
     "metadata": {},
     "output_type": "execute_result"
    }
   ],
   "source": [
    "x_train.shape, y_train.size(), x_test.shape, y_test.size()"
   ]
  },
  {
   "cell_type": "markdown",
   "id": "c51cb2a6",
   "metadata": {},
   "source": [
    "# Fine-tune LM -> Predict CLIP image embeddings"
   ]
  },
  {
   "cell_type": "code",
   "execution_count": 8,
   "id": "e16fef2d",
   "metadata": {},
   "outputs": [],
   "source": [
    "from transformers import AutoModel, AutoTokenizer"
   ]
  },
  {
   "cell_type": "code",
   "execution_count": 9,
   "id": "b06f4730",
   "metadata": {},
   "outputs": [
    {
     "data": {
      "text/plain": [
       "device(type='cpu')"
      ]
     },
     "execution_count": 9,
     "metadata": {},
     "output_type": "execute_result"
    }
   ],
   "source": [
    "device = torch.device(\"cuda\") if torch.cuda.is_available() else torch.device(\"cpu\")\n",
    "device"
   ]
  },
  {
   "cell_type": "code",
   "execution_count": 10,
   "id": "45493114",
   "metadata": {},
   "outputs": [],
   "source": [
    "epochs = 10\n",
    "batch_size = 64"
   ]
  },
  {
   "cell_type": "markdown",
   "id": "ea21dcf0",
   "metadata": {},
   "source": [
    "## BERT"
   ]
  },
  {
   "cell_type": "code",
   "execution_count": 37,
   "id": "f824ff98",
   "metadata": {},
   "outputs": [],
   "source": [
    "class CLIPEmbBERT(nn.Module):\n",
    "    def __init__(self):\n",
    "        super(CLIPEmbBERT, self).__init__()\n",
    "        self.model = AutoModel.from_pretrained(\"bert-base-cased\")\n",
    "          ### New layers: None\n",
    "\n",
    "    def forward(self, tokens, mask):\n",
    "        cls_emebdding = self.model(tokens, attention_mask=mask).pooler_output\n",
    "\n",
    "        return cls_emebdding "
   ]
  },
  {
   "cell_type": "code",
   "execution_count": 38,
   "id": "5238a6eb",
   "metadata": {},
   "outputs": [
    {
     "name": "stderr",
     "output_type": "stream",
     "text": [
      "Some weights of the model checkpoint at bert-base-cased were not used when initializing BertModel: ['cls.predictions.transform.dense.weight', 'cls.seq_relationship.bias', 'cls.predictions.transform.dense.bias', 'cls.seq_relationship.weight', 'cls.predictions.transform.LayerNorm.bias', 'cls.predictions.decoder.weight', 'cls.predictions.transform.LayerNorm.weight', 'cls.predictions.bias']\n",
      "- This IS expected if you are initializing BertModel from the checkpoint of a model trained on another task or with another architecture (e.g. initializing a BertForSequenceClassification model from a BertForPreTraining model).\n",
      "- This IS NOT expected if you are initializing BertModel from the checkpoint of a model that you expect to be exactly identical (initializing a BertForSequenceClassification model from a BertForSequenceClassification model).\n"
     ]
    }
   ],
   "source": [
    "bert_model = CLIPEmbBERT()\n",
    "bert_model.to(device)\n",
    "\n",
    "bert_tokenizer = AutoTokenizer.from_pretrained(\"bert-base-cased\")\n",
    "\n",
    "criterion = nn.MSELoss()\n",
    "optimizer = torch.optim.Adam(bert_model.parameters(), lr=0.0001, weight_decay=1e-6)"
   ]
  },
  {
   "cell_type": "code",
   "execution_count": 39,
   "id": "f1306712",
   "metadata": {},
   "outputs": [],
   "source": [
    "x_train_bert = bert_tokenizer.batch_encode_plus(list(x_train), return_tensors='pt', padding=True, add_special_tokens=True)\n",
    "x_test_bert = bert_tokenizer.batch_encode_plus(list(x_test), return_tensors='pt', padding=True, add_special_tokens=True)"
   ]
  },
  {
   "cell_type": "code",
   "execution_count": 40,
   "id": "cf39cc7d",
   "metadata": {},
   "outputs": [
    {
     "data": {
      "text/plain": [
       "{'input_ids': tensor([[  101,  2770,  3808,  ...,     0,     0,     0],\n",
       "        [  101, 13439,   118,  ...,     0,     0,     0],\n",
       "        [  101,  4108,  9331,  ...,     0,     0,     0],\n",
       "        ...,\n",
       "        [  101, 14763, 17704,  ...,     0,     0,     0],\n",
       "        [  101,   107, 11336,  ...,     0,     0,     0],\n",
       "        [  101, 20452, 10308,  ...,     0,     0,     0]]), 'token_type_ids': tensor([[0, 0, 0,  ..., 0, 0, 0],\n",
       "        [0, 0, 0,  ..., 0, 0, 0],\n",
       "        [0, 0, 0,  ..., 0, 0, 0],\n",
       "        ...,\n",
       "        [0, 0, 0,  ..., 0, 0, 0],\n",
       "        [0, 0, 0,  ..., 0, 0, 0],\n",
       "        [0, 0, 0,  ..., 0, 0, 0]]), 'attention_mask': tensor([[1, 1, 1,  ..., 0, 0, 0],\n",
       "        [1, 1, 1,  ..., 0, 0, 0],\n",
       "        [1, 1, 1,  ..., 0, 0, 0],\n",
       "        ...,\n",
       "        [1, 1, 1,  ..., 0, 0, 0],\n",
       "        [1, 1, 1,  ..., 0, 0, 0],\n",
       "        [1, 1, 1,  ..., 0, 0, 0]])}"
      ]
     },
     "execution_count": 40,
     "metadata": {},
     "output_type": "execute_result"
    }
   ],
   "source": [
    "x_train_bert"
   ]
  },
  {
   "cell_type": "code",
   "execution_count": null,
   "id": "a3749f9a",
   "metadata": {
    "scrolled": true
   },
   "outputs": [
    {
     "name": "stderr",
     "output_type": "stream",
     "text": [
      "100%|█████████████████████████████████████████| 125/125 [1:18:42<00:00, 37.78s/it]\n"
     ]
    },
    {
     "name": "stdout",
     "output_type": "stream",
     "text": [
      "Loss Epoch 0: 0.002549578435719013\n"
     ]
    },
    {
     "name": "stderr",
     "output_type": "stream",
     "text": [
      " 18%|███████▋                                  | 23/125 [14:20<1:00:06, 35.35s/it]"
     ]
    }
   ],
   "source": [
    "bert_model.train()\n",
    "for epoch in range(epochs):\n",
    "    \n",
    "    rand_ids = torch.randperm(x_train_bert['input_ids'].size()[0])\n",
    "    X = x_train_bert['input_ids'][rand_ids]\n",
    "    masks = x_train_bert['attention_mask'][rand_ids]\n",
    "    \n",
    "    for i in tqdm(range(0, X.size()[0], batch_size)):\n",
    "        optimizer.zero_grad()\n",
    "        \n",
    "        outputs = bert_model(X[i:i+batch_size], mask=masks[i:i+batch_size])\n",
    "        \n",
    "        loss = criterion(outputs, y_train[i:i+batch_size])\n",
    "\n",
    "        loss.backward()\n",
    "        optimizer.step()\n",
    "    \n",
    "    if epoch % 10 == 0:\n",
    "        print(f\"Loss Epoch {epoch}: {loss}\")"
   ]
  },
  {
   "cell_type": "code",
   "execution_count": null,
   "id": "530faaf9",
   "metadata": {},
   "outputs": [],
   "source": [
    "bert_model.eval()\n",
    "bert_model(x_test_bert['input_ids'], mask=x_test_bert['attention_mask'])\n",
    "    \n",
    "test_loss = criterion(outputs, y_test_bert)\n",
    "test_loss"
   ]
  },
  {
   "cell_type": "markdown",
   "id": "23fd3550",
   "metadata": {},
   "source": [
    "## DistilBERT"
   ]
  },
  {
   "cell_type": "code",
   "execution_count": 1,
   "id": "43900e08",
   "metadata": {},
   "outputs": [
    {
     "ename": "NameError",
     "evalue": "name 'nn' is not defined",
     "output_type": "error",
     "traceback": [
      "\u001b[0;31m---------------------------------------------------------------------------\u001b[0m",
      "\u001b[0;31mNameError\u001b[0m                                 Traceback (most recent call last)",
      "Input \u001b[0;32mIn [1]\u001b[0m, in \u001b[0;36m<cell line: 1>\u001b[0;34m()\u001b[0m\n\u001b[0;32m----> 1\u001b[0m \u001b[38;5;28;01mclass\u001b[39;00m \u001b[38;5;21;01mCLIPEmbDistilBERT\u001b[39;00m(\u001b[43mnn\u001b[49m\u001b[38;5;241m.\u001b[39mModule):\n\u001b[1;32m      2\u001b[0m     \u001b[38;5;28;01mdef\u001b[39;00m \u001b[38;5;21m__init__\u001b[39m(\u001b[38;5;28mself\u001b[39m):\n\u001b[1;32m      3\u001b[0m         \u001b[38;5;28msuper\u001b[39m(CLIPEmbDistilBERT, \u001b[38;5;28mself\u001b[39m)\u001b[38;5;241m.\u001b[39m\u001b[38;5;21m__init__\u001b[39m()\n",
      "\u001b[0;31mNameError\u001b[0m: name 'nn' is not defined"
     ]
    }
   ],
   "source": [
    "class CLIPEmbDistilBERT(nn.Module):\n",
    "    def __init__(self):\n",
    "        super(CLIPEmbDistilBERT, self).__init__()\n",
    "        self.model = AutoModel.from_pretrained(\"distilbert-base-cased\")\n",
    "          ### New layers: None\n",
    "\n",
    "    def forward(self, tokens, mask):\n",
    "        cls_emebdding = self.model(tokens, attention_mask=mask).pooler_output\n",
    "\n",
    "        return cls_emebdding"
   ]
  },
  {
   "cell_type": "code",
   "execution_count": null,
   "id": "ccb5f9b3",
   "metadata": {},
   "outputs": [],
   "source": [
    "distilbert_model = CLIPEmbDistilBERT()\n",
    "distilbert_model.to(device)\n",
    "\n",
    "distilbert_tokenizer = AutoTokenizer.from_pretrained(\"distilbert-base-cased\")\n",
    "\n",
    "criterion = nn.MSELoss()\n",
    "optimizer = torch.optim.Adam(distilbert_model.parameters(), lr=0.0001, weight_decay=1e-6)"
   ]
  },
  {
   "cell_type": "code",
   "execution_count": null,
   "id": "767d05a6",
   "metadata": {},
   "outputs": [],
   "source": [
    "x_train_distilbert = distilbert_tokenizer.batch_encode_plus(list(x_train), return_tensors='pt', padding=True, add_special_tokens=True)\n",
    "x_test_distilbert = distilbert_tokenizer.batch_encode_plus(list(x_test), return_tensors='pt', padding=True, add_special_tokens=True)"
   ]
  },
  {
   "cell_type": "code",
   "execution_count": null,
   "id": "ec4a5ed7",
   "metadata": {},
   "outputs": [],
   "source": [
    "distilbert_model.train()\n",
    "for epoch in range(epochs):\n",
    "    \n",
    "    rand_ids = torch.randperm(x_train_distilbert['input_ids'].size()[0])\n",
    "    X = x_train_distilbert['input_ids'][rand_ids]\n",
    "    masks = x_train_distilbert['attention_mask'][rand_ids]\n",
    "    \n",
    "    for i in tqdm(range(0, X.size()[0], batch_size)):\n",
    "        optimizer.zero_grad()\n",
    "        \n",
    "        outputs = distilbert_model(X[i:i+batch_size], mask=masks[i:i+batch_size])\n",
    "        \n",
    "        loss = criterion(outputs, y_train[i:i+batch_size])\n",
    "\n",
    "        loss.backward()\n",
    "        optimizer.step()\n",
    "    \n",
    "    if epoch % 10 == 0:\n",
    "        print(f\"Loss Epoch {epoch}: {loss}\")"
   ]
  }
 ],
 "metadata": {
  "kernelspec": {
   "display_name": "Python 3 (ipykernel)",
   "language": "python",
   "name": "python3"
  },
  "language_info": {
   "codemirror_mode": {
    "name": "ipython",
    "version": 3
   },
   "file_extension": ".py",
   "mimetype": "text/x-python",
   "name": "python",
   "nbconvert_exporter": "python",
   "pygments_lexer": "ipython3",
   "version": "3.8.13"
  }
 },
 "nbformat": 4,
 "nbformat_minor": 5
}
